{
  "nbformat": 4,
  "nbformat_minor": 0,
  "metadata": {
    "colab": {
      "provenance": [],
      "toc_visible": true,
      "authorship_tag": "ABX9TyMIrMa88JleW+XVFg7zLk10",
      "include_colab_link": true
    },
    "kernelspec": {
      "name": "python3",
      "display_name": "Python 3"
    },
    "language_info": {
      "name": "python"
    }
  },
  "cells": [
    {
      "cell_type": "markdown",
      "metadata": {
        "id": "view-in-github",
        "colab_type": "text"
      },
      "source": [
        "<a href=\"https://colab.research.google.com/github/swatikamble2004/swatikamble2004/blob/main/experiment_1.ipynb\" target=\"_parent\"><img src=\"https://colab.research.google.com/assets/colab-badge.svg\" alt=\"Open In Colab\"/></a>"
      ]
    },
    {
      "cell_type": "code",
      "execution_count": null,
      "metadata": {
        "id": "r51MlMllXMwC",
        "colab": {
          "base_uri": "https://localhost:8080/"
        },
        "outputId": "18220bdd-ab86-4d2f-cdcb-b871ca60acd3"
      },
      "outputs": [
        {
          "output_type": "stream",
          "name": "stdout",
          "text": [
            "enter the radius of circle 10\n",
            "314.0\n",
            "enter the lenght10\n",
            "enter the breadth20\n",
            "200\n"
          ]
        }
      ],
      "source": [
        "r=int(input(\"enter the radius of circle\"))\n",
        "area=3.14*r*r\n",
        "print(area)\n",
        "\n",
        "c=int(input(\"enter the lenght\"))\n",
        "d=int(input(\"enter the breadth\"))\n",
        "Rectangle_area=c*d\n",
        "print(Rectangle_area)"
      ]
    }
  ]
}